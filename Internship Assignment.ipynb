{
 "cells": [
  {
   "cell_type": "markdown",
   "id": "44153ce2",
   "metadata": {},
   "source": [
    "# 1. Importing library and csv file"
   ]
  },
  {
   "cell_type": "code",
   "execution_count": 4,
   "id": "3509a181",
   "metadata": {},
   "outputs": [],
   "source": [
    "import pandas as pd\n",
    "import numpy as np\n",
    "from matplotlib import pyplot as plt\n",
    "import seaborn as sns"
   ]
  },
  {
   "cell_type": "code",
   "execution_count": 5,
   "id": "331214e3",
   "metadata": {},
   "outputs": [],
   "source": [
    "df = pd.read_csv('2022_02_08-02_30_31_AM.csv')"
   ]
  },
  {
   "cell_type": "markdown",
   "id": "dc3c11fe",
   "metadata": {},
   "source": [
    "# Collecting basic info of dataset"
   ]
  },
  {
   "cell_type": "code",
   "execution_count": 6,
   "id": "c60793a2",
   "metadata": {},
   "outputs": [
    {
     "data": {
      "text/html": [
       "<div>\n",
       "<style scoped>\n",
       "    .dataframe tbody tr th:only-of-type {\n",
       "        vertical-align: middle;\n",
       "    }\n",
       "\n",
       "    .dataframe tbody tr th {\n",
       "        vertical-align: top;\n",
       "    }\n",
       "\n",
       "    .dataframe thead th {\n",
       "        text-align: right;\n",
       "    }\n",
       "</style>\n",
       "<table border=\"1\" class=\"dataframe\">\n",
       "  <thead>\n",
       "    <tr style=\"text-align: right;\">\n",
       "      <th></th>\n",
       "      <th>uuid</th>\n",
       "      <th>price_string</th>\n",
       "      <th>price_string_unf</th>\n",
       "      <th>product_type</th>\n",
       "      <th>level_1</th>\n",
       "      <th>category</th>\n",
       "    </tr>\n",
       "  </thead>\n",
       "  <tbody>\n",
       "    <tr>\n",
       "      <th>0</th>\n",
       "      <td>638744a4-b0ae-4166-8cb6-5c063c862036</td>\n",
       "      <td>NaN</td>\n",
       "      <td>NaN</td>\n",
       "      <td>TGFwdG9wIENvdmVycy9CYWdz</td>\n",
       "      <td>TGFwdG9wIENhc2U</td>\n",
       "      <td>RWxlY3Ryb25pY3M</td>\n",
       "    </tr>\n",
       "    <tr>\n",
       "      <th>1</th>\n",
       "      <td>ab313969-02cc-48b2-9daf-0054efb70b92</td>\n",
       "      <td>NaN</td>\n",
       "      <td>NaN</td>\n",
       "      <td>QmFraW5nIEN1cHMgYW5kIE1hdHM</td>\n",
       "      <td>QmFraW5nIE1hdHMgLyBCYWtpbmcgZGlzaA</td>\n",
       "      <td>a2l0Y2hpbmcgYW5kIGRpbmluZw</td>\n",
       "    </tr>\n",
       "    <tr>\n",
       "      <th>2</th>\n",
       "      <td>acbd66ff-79f8-467a-91f9-108a45af5626</td>\n",
       "      <td>$19.95</td>\n",
       "      <td>NaN</td>\n",
       "      <td>R3VtbWllcyB2aXRhbWlucyBhbmQgbWluZXJhbHMgZm9yIG...</td>\n",
       "      <td>SW1tdW5pdHkgZ3VtbWllcw</td>\n",
       "      <td>SGVhbHRo</td>\n",
       "    </tr>\n",
       "    <tr>\n",
       "      <th>3</th>\n",
       "      <td>963915d6-b2e3-4098-b242-9410593cf205</td>\n",
       "      <td>$92.00</td>\n",
       "      <td>NaN</td>\n",
       "      <td>U2VydW1z</td>\n",
       "      <td>RmFjZSBTZXJ1bQ</td>\n",
       "      <td>YmVhdXR5IGFuZCBwZXJzb25hbCBjYXJl</td>\n",
       "    </tr>\n",
       "    <tr>\n",
       "      <th>4</th>\n",
       "      <td>b5b68f3c-b1e0-40e5-8ee5-e2f7236c1daf</td>\n",
       "      <td>11.50</td>\n",
       "      <td>NaN</td>\n",
       "      <td>RWF0aW5nIFV0ZW5zaWxzL0N1dGxlcnk</td>\n",
       "      <td>Q2hvcHN0aWNrcw</td>\n",
       "      <td>a2l0Y2hpbmcgYW5kIGRpbmluZw</td>\n",
       "    </tr>\n",
       "  </tbody>\n",
       "</table>\n",
       "</div>"
      ],
      "text/plain": [
       "                                   uuid price_string price_string_unf  \\\n",
       "0  638744a4-b0ae-4166-8cb6-5c063c862036          NaN              NaN   \n",
       "1  ab313969-02cc-48b2-9daf-0054efb70b92          NaN              NaN   \n",
       "2  acbd66ff-79f8-467a-91f9-108a45af5626       $19.95              NaN   \n",
       "3  963915d6-b2e3-4098-b242-9410593cf205       $92.00              NaN   \n",
       "4  b5b68f3c-b1e0-40e5-8ee5-e2f7236c1daf        11.50              NaN   \n",
       "\n",
       "                                        product_type  \\\n",
       "0                           TGFwdG9wIENvdmVycy9CYWdz   \n",
       "1                        QmFraW5nIEN1cHMgYW5kIE1hdHM   \n",
       "2  R3VtbWllcyB2aXRhbWlucyBhbmQgbWluZXJhbHMgZm9yIG...   \n",
       "3                                           U2VydW1z   \n",
       "4                    RWF0aW5nIFV0ZW5zaWxzL0N1dGxlcnk   \n",
       "\n",
       "                              level_1                          category  \n",
       "0                     TGFwdG9wIENhc2U                   RWxlY3Ryb25pY3M  \n",
       "1  QmFraW5nIE1hdHMgLyBCYWtpbmcgZGlzaA        a2l0Y2hpbmcgYW5kIGRpbmluZw  \n",
       "2              SW1tdW5pdHkgZ3VtbWllcw                          SGVhbHRo  \n",
       "3                      RmFjZSBTZXJ1bQ  YmVhdXR5IGFuZCBwZXJzb25hbCBjYXJl  \n",
       "4                      Q2hvcHN0aWNrcw        a2l0Y2hpbmcgYW5kIGRpbmluZw  "
      ]
     },
     "execution_count": 6,
     "metadata": {},
     "output_type": "execute_result"
    }
   ],
   "source": [
    "df.head()"
   ]
  },
  {
   "cell_type": "code",
   "execution_count": 7,
   "id": "d412a450",
   "metadata": {},
   "outputs": [
    {
     "data": {
      "text/plain": [
       "(13730000, 6)"
      ]
     },
     "execution_count": 7,
     "metadata": {},
     "output_type": "execute_result"
    }
   ],
   "source": [
    "df.shape"
   ]
  },
  {
   "cell_type": "code",
   "execution_count": 8,
   "id": "b118a8cd",
   "metadata": {},
   "outputs": [
    {
     "name": "stdout",
     "output_type": "stream",
     "text": [
      "<class 'pandas.core.frame.DataFrame'>\n",
      "RangeIndex: 13730000 entries, 0 to 13729999\n",
      "Data columns (total 6 columns):\n",
      " #   Column            Dtype \n",
      "---  ------            ----- \n",
      " 0   uuid              object\n",
      " 1   price_string      object\n",
      " 2   price_string_unf  object\n",
      " 3   product_type      object\n",
      " 4   level_1           object\n",
      " 5   category          object\n",
      "dtypes: object(6)\n",
      "memory usage: 628.5+ MB\n"
     ]
    }
   ],
   "source": [
    "df.info()"
   ]
  },
  {
   "cell_type": "code",
   "execution_count": 9,
   "id": "9588bd22",
   "metadata": {},
   "outputs": [
    {
     "data": {
      "text/plain": [
       "array([nan, '$19.95', '$92.00', '11.50', '$24.99', '$148.00', '$89',\n",
       "       '$14.95', '$55.00', '32.99', '52.00', '$11.30', '$13.99', '$6.95',\n",
       "       '$0.00', '$129', '$10.99', '$6.49', '$18.99', '$179', '$9.99',\n",
       "       '$3.99', '$549', '$16.99', '$49.99', '$90.00', '$12.99', '$59',\n",
       "       '$85.00', '$128.00', '$150', '$6.99', '$34.00', '$248.00', '$4.99',\n",
       "       '$65', '11.00', '$459', '$199', '14.95', '$135.05', '$1099',\n",
       "       '$7.97', '$6.75', '$15.00', '$5.29', '$10.00', '7.00', '$80.00',\n",
       "       '$2.29', '$119', '6.60', '$399', '$39.95', '12.00', '$8.99', '$79',\n",
       "       '$35', '$34.95', '$99', '$18.95', '$459.99', '$58.00', '$25.70',\n",
       "       '$3.50', '$619.00', '$95', '$159', '$45', '$149', '$85', '$8.95',\n",
       "       '$69', '$14.00', '$38.00', '$6.50', '$12.50', '$24.00', '$27.00',\n",
       "       '$82.75', '$9.95', '$26.96', '$17.96', '$15.99', '$6.17', '$75',\n",
       "       '$250', '$29.00', '$1198', '$18.00', '$45.00', '$44.00', '$14.99',\n",
       "       '$249', '$86.00', '$160', '$14.37', '$7.99', '$178', '$50.00',\n",
       "       '$58', '$279', '$75.00', '$13.29', '$26.00', '$5.00', '$19.99',\n",
       "       '$6.00', '$28.00', '$32.99', '$48.00', '$178.00', '22.00', '17.00',\n",
       "       '$18.49', '$130', '$99.00', '$36.00', '$79.00', '$70.00', '$4.49',\n",
       "       '$4.00', '$16.00', '$200', '$379', '$118.00', '$11.99', '$29.99',\n",
       "       '$20.00', '$7.00', '$149.99', '$339', '$25.00', '67.00', '$22.95',\n",
       "       '$18', '$7.49', '$6.25', '$69.99', '$5.99', '$26.95', '$299',\n",
       "       '$145.00', '$49', '$17', '$8.00', '$30.00', '$23.00', '$59.99',\n",
       "       '$4.50', '$22', '$198.00', '$53.99', '$34.99', '$47.95', '$229',\n",
       "       '$22.00', '$42.00', '$2.49', '$3.49', '$139', '$120.00', '$20.95',\n",
       "       '$26', '$55', '$189.97', '$150.00', '$3.79', '$40.00', '$30',\n",
       "       '$359', '$20.99', '$5.45', '$85.99', '$19.56', '$11.00', '$155.85',\n",
       "       '$72.00', '$158.00', '$65.00', '$31.00', '$50', '$73.00',\n",
       "       '$279.97', '$499', '$41.99', '$4.79', '13.00', '$29.97', '$195',\n",
       "       '$260', '$2.50', '$130.00', '$49.00', '$76.00', '$125', '$44.99',\n",
       "       '$175.00', '$7.71', '$2.75', '$61.69', '$11.75', '$389', '$80',\n",
       "       '$129.00', '$138.00', '$9.40', '$228.00', '$14.49', '$99.99',\n",
       "       '$27.99', '$60.00', '$17.99', '$9.75', '$449', '$24.95', '$12.95',\n",
       "       '21.00', '$68', '$100', '$52', '$495', '108.00', '$115.20',\n",
       "       '$100.00', '$39.99', '$98.00', '$59.95', '$24', '$23.99', '$95.00',\n",
       "       '$6.39', '$43.96', '$30.95', '$9.00', '$56.30', '$6.13', '$198',\n",
       "       '$209.97', '$599', '$22.46', '5.75', '$8.49', '$119.97', '$10.29',\n",
       "       '$35.96', '$119.00', '$14.50', '$268.00'], dtype=object)"
      ]
     },
     "execution_count": 9,
     "metadata": {},
     "output_type": "execute_result"
    }
   ],
   "source": [
    "df['price_string'].unique()"
   ]
  },
  {
   "cell_type": "code",
   "execution_count": 10,
   "id": "da1c63f7",
   "metadata": {},
   "outputs": [
    {
     "data": {
      "text/plain": [
       "array([nan, 'Current price: \\n$359.00', '$6.75', '$15.00', '$18.95',\n",
       "       '$459.99', '$619.00', '$41 USD', '$85 USD', '$24.00',\n",
       "       '$248.00\\n\\n\\n\\n$104.50 - $248.00', '$178.00\\n\\n\\n\\n$64.50',\n",
       "       'Current price: \\n$329.40', '$99.00', '$11.99', '$10.00',\n",
       "       '$95 USD', '$178.00\\n\\n\\n\\n$59.50', '$29.00', '$25.00',\n",
       "       '$138.00\\n\\n\\n\\n$96.60', '$49.00', '$50 USD', '$80 USD', '$52 USD',\n",
       "       '$198.00', '$30.00'], dtype=object)"
      ]
     },
     "execution_count": 10,
     "metadata": {},
     "output_type": "execute_result"
    }
   ],
   "source": [
    "df['price_string_unf'].unique()"
   ]
  },
  {
   "cell_type": "code",
   "execution_count": 11,
   "id": "bbba97c1",
   "metadata": {},
   "outputs": [
    {
     "data": {
      "text/plain": [
       "uuid                       0\n",
       "price_string         8220000\n",
       "price_string_unf    13420000\n",
       "product_type           10000\n",
       "level_1                50000\n",
       "category               10000\n",
       "dtype: int64"
      ]
     },
     "execution_count": 11,
     "metadata": {},
     "output_type": "execute_result"
    }
   ],
   "source": [
    "df.isnull().sum()"
   ]
  },
  {
   "cell_type": "markdown",
   "id": "98fbc248",
   "metadata": {},
   "source": [
    "# 1.product without prices"
   ]
  },
  {
   "cell_type": "code",
   "execution_count": 12,
   "id": "a6818f41",
   "metadata": {},
   "outputs": [],
   "source": [
    "df2=df[df['price_string'].isnull()]"
   ]
  },
  {
   "cell_type": "code",
   "execution_count": 13,
   "id": "d2ffc1a2",
   "metadata": {},
   "outputs": [
    {
     "data": {
      "text/html": [
       "<div>\n",
       "<style scoped>\n",
       "    .dataframe tbody tr th:only-of-type {\n",
       "        vertical-align: middle;\n",
       "    }\n",
       "\n",
       "    .dataframe tbody tr th {\n",
       "        vertical-align: top;\n",
       "    }\n",
       "\n",
       "    .dataframe thead th {\n",
       "        text-align: right;\n",
       "    }\n",
       "</style>\n",
       "<table border=\"1\" class=\"dataframe\">\n",
       "  <thead>\n",
       "    <tr style=\"text-align: right;\">\n",
       "      <th></th>\n",
       "      <th>uuid</th>\n",
       "      <th>price_string</th>\n",
       "      <th>price_string_unf</th>\n",
       "      <th>product_type</th>\n",
       "      <th>level_1</th>\n",
       "      <th>category</th>\n",
       "    </tr>\n",
       "  </thead>\n",
       "  <tbody>\n",
       "    <tr>\n",
       "      <th>0</th>\n",
       "      <td>638744a4-b0ae-4166-8cb6-5c063c862036</td>\n",
       "      <td>NaN</td>\n",
       "      <td>NaN</td>\n",
       "      <td>TGFwdG9wIENvdmVycy9CYWdz</td>\n",
       "      <td>TGFwdG9wIENhc2U</td>\n",
       "      <td>RWxlY3Ryb25pY3M</td>\n",
       "    </tr>\n",
       "    <tr>\n",
       "      <th>1</th>\n",
       "      <td>ab313969-02cc-48b2-9daf-0054efb70b92</td>\n",
       "      <td>NaN</td>\n",
       "      <td>NaN</td>\n",
       "      <td>QmFraW5nIEN1cHMgYW5kIE1hdHM</td>\n",
       "      <td>QmFraW5nIE1hdHMgLyBCYWtpbmcgZGlzaA</td>\n",
       "      <td>a2l0Y2hpbmcgYW5kIGRpbmluZw</td>\n",
       "    </tr>\n",
       "    <tr>\n",
       "      <th>5</th>\n",
       "      <td>389d9f75-cc3f-4bd2-94f7-93e381a3bed5</td>\n",
       "      <td>NaN</td>\n",
       "      <td>NaN</td>\n",
       "      <td>TmF0dXJhbCBTd2VldGVuZXJzLyBTdWdhcg</td>\n",
       "      <td>TW9uayBGcnVpdA</td>\n",
       "      <td>Z3JvY2VyaWVz</td>\n",
       "    </tr>\n",
       "    <tr>\n",
       "      <th>13</th>\n",
       "      <td>1f2766ec-0a27-43f8-b28b-77a44492ead1</td>\n",
       "      <td>NaN</td>\n",
       "      <td>NaN</td>\n",
       "      <td>U2NydWJzIGFuZCBjbGVhbmluZyBjbG90aHM</td>\n",
       "      <td>U2NydWJz</td>\n",
       "      <td>SG91c2Vob2xkIGFuZCBDbGVhbmluZw</td>\n",
       "    </tr>\n",
       "    <tr>\n",
       "      <th>16</th>\n",
       "      <td>7bad39f5-74b9-4611-afb9-46fb135190cd</td>\n",
       "      <td>NaN</td>\n",
       "      <td>NaN</td>\n",
       "      <td>UGx1cyBzaXplIHdlYXIgZHJlc3M</td>\n",
       "      <td>RHJlc3M</td>\n",
       "      <td>Q2xvdGhpbmcgYW5kIEFjY2Vzc29yaWVz</td>\n",
       "    </tr>\n",
       "  </tbody>\n",
       "</table>\n",
       "</div>"
      ],
      "text/plain": [
       "                                    uuid price_string price_string_unf  \\\n",
       "0   638744a4-b0ae-4166-8cb6-5c063c862036          NaN              NaN   \n",
       "1   ab313969-02cc-48b2-9daf-0054efb70b92          NaN              NaN   \n",
       "5   389d9f75-cc3f-4bd2-94f7-93e381a3bed5          NaN              NaN   \n",
       "13  1f2766ec-0a27-43f8-b28b-77a44492ead1          NaN              NaN   \n",
       "16  7bad39f5-74b9-4611-afb9-46fb135190cd          NaN              NaN   \n",
       "\n",
       "                           product_type                             level_1  \\\n",
       "0              TGFwdG9wIENvdmVycy9CYWdz                     TGFwdG9wIENhc2U   \n",
       "1           QmFraW5nIEN1cHMgYW5kIE1hdHM  QmFraW5nIE1hdHMgLyBCYWtpbmcgZGlzaA   \n",
       "5    TmF0dXJhbCBTd2VldGVuZXJzLyBTdWdhcg                      TW9uayBGcnVpdA   \n",
       "13  U2NydWJzIGFuZCBjbGVhbmluZyBjbG90aHM                            U2NydWJz   \n",
       "16          UGx1cyBzaXplIHdlYXIgZHJlc3M                             RHJlc3M   \n",
       "\n",
       "                            category  \n",
       "0                    RWxlY3Ryb25pY3M  \n",
       "1         a2l0Y2hpbmcgYW5kIGRpbmluZw  \n",
       "5                       Z3JvY2VyaWVz  \n",
       "13    SG91c2Vob2xkIGFuZCBDbGVhbmluZw  \n",
       "16  Q2xvdGhpbmcgYW5kIEFjY2Vzc29yaWVz  "
      ]
     },
     "execution_count": 13,
     "metadata": {},
     "output_type": "execute_result"
    }
   ],
   "source": [
    "df2.head()"
   ]
  },
  {
   "cell_type": "code",
   "execution_count": 14,
   "id": "ea75198c",
   "metadata": {},
   "outputs": [
    {
     "data": {
      "text/plain": [
       "8180000"
      ]
     },
     "execution_count": 14,
     "metadata": {},
     "output_type": "execute_result"
    }
   ],
   "source": [
    "df2['level_1'].count()"
   ]
  },
  {
   "cell_type": "markdown",
   "id": "3c1ea526",
   "metadata": {},
   "source": [
    "Hence from these we are able to know that there are 8180000 products without prices"
   ]
  },
  {
   "cell_type": "code",
   "execution_count": 15,
   "id": "5899b3b8",
   "metadata": {},
   "outputs": [],
   "source": [
    "product=df2['level_1']"
   ]
  },
  {
   "cell_type": "code",
   "execution_count": 16,
   "id": "5eaffd62",
   "metadata": {},
   "outputs": [
    {
     "data": {
      "text/html": [
       "<div>\n",
       "<style scoped>\n",
       "    .dataframe tbody tr th:only-of-type {\n",
       "        vertical-align: middle;\n",
       "    }\n",
       "\n",
       "    .dataframe tbody tr th {\n",
       "        vertical-align: top;\n",
       "    }\n",
       "\n",
       "    .dataframe thead th {\n",
       "        text-align: right;\n",
       "    }\n",
       "</style>\n",
       "<table border=\"1\" class=\"dataframe\">\n",
       "  <thead>\n",
       "    <tr style=\"text-align: right;\">\n",
       "      <th></th>\n",
       "      <th>level_1</th>\n",
       "    </tr>\n",
       "  </thead>\n",
       "  <tbody>\n",
       "    <tr>\n",
       "      <th>0</th>\n",
       "      <td>TGFwdG9wIENhc2U</td>\n",
       "    </tr>\n",
       "    <tr>\n",
       "      <th>1</th>\n",
       "      <td>QmFraW5nIE1hdHMgLyBCYWtpbmcgZGlzaA</td>\n",
       "    </tr>\n",
       "    <tr>\n",
       "      <th>2</th>\n",
       "      <td>TW9uayBGcnVpdA</td>\n",
       "    </tr>\n",
       "    <tr>\n",
       "      <th>3</th>\n",
       "      <td>U2NydWJz</td>\n",
       "    </tr>\n",
       "    <tr>\n",
       "      <th>4</th>\n",
       "      <td>RHJlc3M</td>\n",
       "    </tr>\n",
       "    <tr>\n",
       "      <th>...</th>\n",
       "      <td>...</td>\n",
       "    </tr>\n",
       "    <tr>\n",
       "      <th>8219995</th>\n",
       "      <td>U2hpcnRz</td>\n",
       "    </tr>\n",
       "    <tr>\n",
       "      <th>8219996</th>\n",
       "      <td>UGVwcGVy</td>\n",
       "    </tr>\n",
       "    <tr>\n",
       "      <th>8219997</th>\n",
       "      <td>TWF4aSBkcmVzcw</td>\n",
       "    </tr>\n",
       "    <tr>\n",
       "      <th>8219998</th>\n",
       "      <td>RHJ5IERvZyBGb29k</td>\n",
       "    </tr>\n",
       "    <tr>\n",
       "      <th>8219999</th>\n",
       "      <td>QkJRIFNhdWNl</td>\n",
       "    </tr>\n",
       "  </tbody>\n",
       "</table>\n",
       "<p>8220000 rows × 1 columns</p>\n",
       "</div>"
      ],
      "text/plain": [
       "                                    level_1\n",
       "0                           TGFwdG9wIENhc2U\n",
       "1        QmFraW5nIE1hdHMgLyBCYWtpbmcgZGlzaA\n",
       "2                            TW9uayBGcnVpdA\n",
       "3                                  U2NydWJz\n",
       "4                                   RHJlc3M\n",
       "...                                     ...\n",
       "8219995                            U2hpcnRz\n",
       "8219996                            UGVwcGVy\n",
       "8219997                      TWF4aSBkcmVzcw\n",
       "8219998                    RHJ5IERvZyBGb29k\n",
       "8219999                        QkJRIFNhdWNl\n",
       "\n",
       "[8220000 rows x 1 columns]"
      ]
     },
     "execution_count": 16,
     "metadata": {},
     "output_type": "execute_result"
    }
   ],
   "source": [
    "product.reset_index().drop(['index'],axis=1)"
   ]
  },
  {
   "cell_type": "markdown",
   "id": "62b5be12",
   "metadata": {},
   "source": [
    "these are all the products without prices"
   ]
  },
  {
   "cell_type": "markdown",
   "id": "6a766742",
   "metadata": {},
   "source": []
  },
  {
   "cell_type": "code",
   "execution_count": 17,
   "id": "f6a36b1c",
   "metadata": {},
   "outputs": [
    {
     "data": {
      "text/plain": [
       "<AxesSubplot:>"
      ]
     },
     "execution_count": 17,
     "metadata": {},
     "output_type": "execute_result"
    },
    {
     "data": {
      "image/png": "[encoded data removed]",
      "text/plain": [
       "<Figure size 432x288 with 1 Axes>"
      ]
     },
     "metadata": {
      "needs_background": "light"
     },
     "output_type": "display_data"
    }
   ],
   "source": [
    "product.reset_index().drop(['index'],axis=1).count().plot(kind='bar',color='#6A5495')"
   ]
  },
  {
   "cell_type": "markdown",
   "id": "441a17d4",
   "metadata": {},
   "source": [
    "with the help of these graph it is clearly visible that 80000 above product are there without prices"
   ]
  },
  {
   "cell_type": "markdown",
   "id": "b82ea3a9",
   "metadata": {},
   "source": [
    "# 2.Count of products without prices in each Product Type, Category, Level "
   ]
  },
  {
   "cell_type": "markdown",
   "id": "aa3d8e9b",
   "metadata": {},
   "source": [
    "Above we have store data without prices in df2 dataframe and we are using same dataframe here"
   ]
  },
  {
   "cell_type": "code",
   "execution_count": 18,
   "id": "b8f50d12",
   "metadata": {},
   "outputs": [
    {
     "data": {
      "text/plain": [
       "product_type    8210000\n",
       "category        8210000\n",
       "level_1         8180000\n",
       "dtype: int64"
      ]
     },
     "execution_count": 18,
     "metadata": {},
     "output_type": "execute_result"
    }
   ],
   "source": [
    "df2[['product_type','category','level_1']].count()"
   ]
  },
  {
   "cell_type": "code",
   "execution_count": 19,
   "id": "781c63c4",
   "metadata": {},
   "outputs": [
    {
     "data": {
      "text/plain": [
       "<AxesSubplot:>"
      ]
     },
     "execution_count": 19,
     "metadata": {},
     "output_type": "execute_result"
    },
    {
     "data": {
      "image/png": "[encoded data removed]",
      "text/plain": [
       "<Figure size 432x288 with 1 Axes>"
      ]
     },
     "metadata": {
      "needs_background": "light"
     },
     "output_type": "display_data"
    }
   ],
   "source": [
    "df2[['product_type','category','level_1']].count().plot(kind='bar',color=['r','purple','g'])"
   ]
  },
  {
   "cell_type": "markdown",
   "id": "9d1b6839",
   "metadata": {},
   "source": [
    "from these code we obtain the counts of each required coloums without prices"
   ]
  },
  {
   "cell_type": "markdown",
   "id": "41cd9443",
   "metadata": {},
   "source": [
    "# Count of products with prices in each Product Type, Category, Level"
   ]
  },
  {
   "cell_type": "markdown",
   "id": "fa04dda3",
   "metadata": {},
   "source": [
    "here we are fetching coloums where price coloum is not empty"
   ]
  },
  {
   "cell_type": "code",
   "execution_count": 20,
   "id": "11ec32ab",
   "metadata": {},
   "outputs": [],
   "source": [
    "df3=df[~(df['price_string'].isnull())]"
   ]
  },
  {
   "cell_type": "code",
   "execution_count": 21,
   "id": "49f4cafe",
   "metadata": {},
   "outputs": [
    {
     "data": {
      "text/html": [
       "<div>\n",
       "<style scoped>\n",
       "    .dataframe tbody tr th:only-of-type {\n",
       "        vertical-align: middle;\n",
       "    }\n",
       "\n",
       "    .dataframe tbody tr th {\n",
       "        vertical-align: top;\n",
       "    }\n",
       "\n",
       "    .dataframe thead th {\n",
       "        text-align: right;\n",
       "    }\n",
       "</style>\n",
       "<table border=\"1\" class=\"dataframe\">\n",
       "  <thead>\n",
       "    <tr style=\"text-align: right;\">\n",
       "      <th></th>\n",
       "      <th>uuid</th>\n",
       "      <th>price_string</th>\n",
       "      <th>price_string_unf</th>\n",
       "      <th>product_type</th>\n",
       "      <th>level_1</th>\n",
       "      <th>category</th>\n",
       "    </tr>\n",
       "  </thead>\n",
       "  <tbody>\n",
       "    <tr>\n",
       "      <th>2</th>\n",
       "      <td>acbd66ff-79f8-467a-91f9-108a45af5626</td>\n",
       "      <td>$19.95</td>\n",
       "      <td>NaN</td>\n",
       "      <td>R3VtbWllcyB2aXRhbWlucyBhbmQgbWluZXJhbHMgZm9yIG...</td>\n",
       "      <td>SW1tdW5pdHkgZ3VtbWllcw</td>\n",
       "      <td>SGVhbHRo</td>\n",
       "    </tr>\n",
       "    <tr>\n",
       "      <th>3</th>\n",
       "      <td>963915d6-b2e3-4098-b242-9410593cf205</td>\n",
       "      <td>$92.00</td>\n",
       "      <td>NaN</td>\n",
       "      <td>U2VydW1z</td>\n",
       "      <td>RmFjZSBTZXJ1bQ</td>\n",
       "      <td>YmVhdXR5IGFuZCBwZXJzb25hbCBjYXJl</td>\n",
       "    </tr>\n",
       "    <tr>\n",
       "      <th>4</th>\n",
       "      <td>b5b68f3c-b1e0-40e5-8ee5-e2f7236c1daf</td>\n",
       "      <td>11.50</td>\n",
       "      <td>NaN</td>\n",
       "      <td>RWF0aW5nIFV0ZW5zaWxzL0N1dGxlcnk</td>\n",
       "      <td>Q2hvcHN0aWNrcw</td>\n",
       "      <td>a2l0Y2hpbmcgYW5kIGRpbmluZw</td>\n",
       "    </tr>\n",
       "    <tr>\n",
       "      <th>6</th>\n",
       "      <td>9599f1a9-d406-43eb-89f5-9b1c0af1ac9a</td>\n",
       "      <td>$24.99</td>\n",
       "      <td>NaN</td>\n",
       "      <td>TW9wcyBhbmQgYnJvb21z</td>\n",
       "      <td>TW9w</td>\n",
       "      <td>SG91c2Vob2xkIGFuZCBDbGVhbmluZw</td>\n",
       "    </tr>\n",
       "    <tr>\n",
       "      <th>7</th>\n",
       "      <td>35799087-f6f4-4ca2-abfe-cbb5c27d2f1a</td>\n",
       "      <td>$148.00</td>\n",
       "      <td>NaN</td>\n",
       "      <td>V29tZW5zIFBhbnRz</td>\n",
       "      <td>V29tZW5zIFJlZ3VsYXIvQ2FzdWFsIFBhbnRz</td>\n",
       "      <td>Q2xvdGhpbmcgYW5kIEFjY2Vzc29yaWVz</td>\n",
       "    </tr>\n",
       "  </tbody>\n",
       "</table>\n",
       "</div>"
      ],
      "text/plain": [
       "                                   uuid price_string price_string_unf  \\\n",
       "2  acbd66ff-79f8-467a-91f9-108a45af5626       $19.95              NaN   \n",
       "3  963915d6-b2e3-4098-b242-9410593cf205       $92.00              NaN   \n",
       "4  b5b68f3c-b1e0-40e5-8ee5-e2f7236c1daf        11.50              NaN   \n",
       "6  9599f1a9-d406-43eb-89f5-9b1c0af1ac9a       $24.99              NaN   \n",
       "7  35799087-f6f4-4ca2-abfe-cbb5c27d2f1a      $148.00              NaN   \n",
       "\n",
       "                                        product_type  \\\n",
       "2  R3VtbWllcyB2aXRhbWlucyBhbmQgbWluZXJhbHMgZm9yIG...   \n",
       "3                                           U2VydW1z   \n",
       "4                    RWF0aW5nIFV0ZW5zaWxzL0N1dGxlcnk   \n",
       "6                               TW9wcyBhbmQgYnJvb21z   \n",
       "7                                   V29tZW5zIFBhbnRz   \n",
       "\n",
       "                                level_1                          category  \n",
       "2                SW1tdW5pdHkgZ3VtbWllcw                          SGVhbHRo  \n",
       "3                        RmFjZSBTZXJ1bQ  YmVhdXR5IGFuZCBwZXJzb25hbCBjYXJl  \n",
       "4                        Q2hvcHN0aWNrcw        a2l0Y2hpbmcgYW5kIGRpbmluZw  \n",
       "6                                  TW9w    SG91c2Vob2xkIGFuZCBDbGVhbmluZw  \n",
       "7  V29tZW5zIFJlZ3VsYXIvQ2FzdWFsIFBhbnRz  Q2xvdGhpbmcgYW5kIEFjY2Vzc29yaWVz  "
      ]
     },
     "execution_count": 21,
     "metadata": {},
     "output_type": "execute_result"
    }
   ],
   "source": [
    "df3.head()"
   ]
  },
  {
   "cell_type": "code",
   "execution_count": 22,
   "id": "a049b3cd",
   "metadata": {},
   "outputs": [
    {
     "data": {
      "text/plain": [
       "array(['$19.95', '$92.00', '11.50', '$24.99', '$148.00', '$89', '$14.95',\n",
       "       '$55.00', '32.99', '52.00', '$11.30', '$13.99', '$6.95', '$0.00',\n",
       "       '$129', '$10.99', '$6.49', '$18.99', '$179', '$9.99', '$3.99',\n",
       "       '$549', '$16.99', '$49.99', '$90.00', '$12.99', '$59', '$85.00',\n",
       "       '$128.00', '$150', '$6.99', '$34.00', '$248.00', '$4.99', '$65',\n",
       "       '11.00', '$459', '$199', '14.95', '$135.05', '$1099', '$7.97',\n",
       "       '$6.75', '$15.00', '$5.29', '$10.00', '7.00', '$80.00', '$2.29',\n",
       "       '$119', '6.60', '$399', '$39.95', '12.00', '$8.99', '$79', '$35',\n",
       "       '$34.95', '$99', '$18.95', '$459.99', '$58.00', '$25.70', '$3.50',\n",
       "       '$619.00', '$95', '$159', '$45', '$149', '$85', '$8.95', '$69',\n",
       "       '$14.00', '$38.00', '$6.50', '$12.50', '$24.00', '$27.00',\n",
       "       '$82.75', '$9.95', '$26.96', '$17.96', '$15.99', '$6.17', '$75',\n",
       "       '$250', '$29.00', '$1198', '$18.00', '$45.00', '$44.00', '$14.99',\n",
       "       '$249', '$86.00', '$160', '$14.37', '$7.99', '$178', '$50.00',\n",
       "       '$58', '$279', '$75.00', '$13.29', '$26.00', '$5.00', '$19.99',\n",
       "       '$6.00', '$28.00', '$32.99', '$48.00', '$178.00', '22.00', '17.00',\n",
       "       '$18.49', '$130', '$99.00', '$36.00', '$79.00', '$70.00', '$4.49',\n",
       "       '$4.00', '$16.00', '$200', '$379', '$118.00', '$11.99', '$29.99',\n",
       "       '$20.00', '$7.00', '$149.99', '$339', '$25.00', '67.00', '$22.95',\n",
       "       '$18', '$7.49', '$6.25', '$69.99', '$5.99', '$26.95', '$299',\n",
       "       '$145.00', '$49', '$17', '$8.00', '$30.00', '$23.00', '$59.99',\n",
       "       '$4.50', '$22', '$198.00', '$53.99', '$34.99', '$47.95', '$229',\n",
       "       '$22.00', '$42.00', '$2.49', '$3.49', '$139', '$120.00', '$20.95',\n",
       "       '$26', '$55', '$189.97', '$150.00', '$3.79', '$40.00', '$30',\n",
       "       '$359', '$20.99', '$5.45', '$85.99', '$19.56', '$11.00', '$155.85',\n",
       "       '$72.00', '$158.00', '$65.00', '$31.00', '$50', '$73.00',\n",
       "       '$279.97', '$499', '$41.99', '$4.79', '13.00', '$29.97', '$195',\n",
       "       '$260', '$2.50', '$130.00', '$49.00', '$76.00', '$125', '$44.99',\n",
       "       '$175.00', '$7.71', '$2.75', '$61.69', '$11.75', '$389', '$80',\n",
       "       '$129.00', '$138.00', '$9.40', '$228.00', '$14.49', '$99.99',\n",
       "       '$27.99', '$60.00', '$17.99', '$9.75', '$449', '$24.95', '$12.95',\n",
       "       '21.00', '$68', '$100', '$52', '$495', '108.00', '$115.20',\n",
       "       '$100.00', '$39.99', '$98.00', '$59.95', '$24', '$23.99', '$95.00',\n",
       "       '$6.39', '$43.96', '$30.95', '$9.00', '$56.30', '$6.13', '$198',\n",
       "       '$209.97', '$599', '$22.46', '5.75', '$8.49', '$119.97', '$10.29',\n",
       "       '$35.96', '$119.00', '$14.50', '$268.00'], dtype=object)"
      ]
     },
     "execution_count": 22,
     "metadata": {},
     "output_type": "execute_result"
    }
   ],
   "source": [
    "df3['price_string'].unique()"
   ]
  },
  {
   "cell_type": "code",
   "execution_count": 23,
   "id": "da6a4916",
   "metadata": {},
   "outputs": [
    {
     "data": {
      "text/plain": [
       "product_type    5510000\n",
       "category        5510000\n",
       "level_1         5500000\n",
       "dtype: int64"
      ]
     },
     "execution_count": 23,
     "metadata": {},
     "output_type": "execute_result"
    }
   ],
   "source": [
    "df3[['product_type','category','level_1']].count()"
   ]
  },
  {
   "cell_type": "code",
   "execution_count": 24,
   "id": "c231e996",
   "metadata": {},
   "outputs": [
    {
     "data": {
      "text/plain": [
       "<AxesSubplot:>"
      ]
     },
     "execution_count": 24,
     "metadata": {},
     "output_type": "execute_result"
    },
    {
     "data": {
      "image/png": "[encoded data removed]",
      "text/plain": [
       "<Figure size 432x288 with 1 Axes>"
      ]
     },
     "metadata": {
      "needs_background": "light"
     },
     "output_type": "display_data"
    }
   ],
   "source": [
    "df3[['product_type','category','level_1']].count().plot(kind='bar',color=['blue','yellow','red'])"
   ]
  },
  {
   "cell_type": "markdown",
   "id": "65652d3c",
   "metadata": {},
   "source": [
    "from these code we obtain the counts of each required coloums with prices and through the graph it is clearly visible"
   ]
  },
  {
   "cell_type": "markdown",
   "id": "fc7ef81c",
   "metadata": {},
   "source": [
    "# Correct Product Prices in the correct format (eg: $56) wherever possible and separate them into currency and value columns."
   ]
  },
  {
   "cell_type": "markdown",
   "id": "334fa5e7",
   "metadata": {},
   "source": [
    "collecting required info of price_string_unf coloumn"
   ]
  },
  {
   "cell_type": "code",
   "execution_count": 25,
   "id": "ea4bf843",
   "metadata": {},
   "outputs": [
    {
     "data": {
      "text/plain": [
       "0    NaN\n",
       "1    NaN\n",
       "2    NaN\n",
       "3    NaN\n",
       "4    NaN\n",
       "Name: price_string_unf, dtype: object"
      ]
     },
     "execution_count": 25,
     "metadata": {},
     "output_type": "execute_result"
    }
   ],
   "source": [
    "df['price_string_unf'].head()"
   ]
  },
  {
   "cell_type": "code",
   "execution_count": 26,
   "id": "fe78a9da",
   "metadata": {},
   "outputs": [
    {
     "data": {
      "text/plain": [
       "array([nan, 'Current price: \\n$359.00', '$6.75', '$15.00', '$18.95',\n",
       "       '$459.99', '$619.00', '$41 USD', '$85 USD', '$24.00',\n",
       "       '$248.00\\n\\n\\n\\n$104.50 - $248.00', '$178.00\\n\\n\\n\\n$64.50',\n",
       "       'Current price: \\n$329.40', '$99.00', '$11.99', '$10.00',\n",
       "       '$95 USD', '$178.00\\n\\n\\n\\n$59.50', '$29.00', '$25.00',\n",
       "       '$138.00\\n\\n\\n\\n$96.60', '$49.00', '$50 USD', '$80 USD', '$52 USD',\n",
       "       '$198.00', '$30.00'], dtype=object)"
      ]
     },
     "execution_count": 26,
     "metadata": {},
     "output_type": "execute_result"
    }
   ],
   "source": [
    "df['price_string_unf'].unique()"
   ]
  },
  {
   "cell_type": "markdown",
   "id": "9a9ed540",
   "metadata": {},
   "source": [
    "Cleaning price_string_unf coloumn to get desire output"
   ]
  },
  {
   "cell_type": "code",
   "execution_count": 27,
   "id": "6dd807d7",
   "metadata": {},
   "outputs": [],
   "source": [
    "df['price_string_unf']=df['price_string_unf'].str.replace('\\n','').str.split('.').str.get(0).str.replace('Current price:','')"
   ]
  },
  {
   "cell_type": "code",
   "execution_count": 28,
   "id": "2f323454",
   "metadata": {},
   "outputs": [
    {
     "data": {
      "text/plain": [
       "array([nan, ' $359', '$6', '$15', '$18', '$459', '$619', '$41 USD',\n",
       "       '$85 USD', '$24', '$248', '$178', ' $329', '$99', '$11', '$10',\n",
       "       '$95 USD', '$29', '$25', '$138', '$49', '$50 USD', '$80 USD',\n",
       "       '$52 USD', '$198', '$30'], dtype=object)"
      ]
     },
     "execution_count": 28,
     "metadata": {},
     "output_type": "execute_result"
    }
   ],
   "source": [
    "df['price_string_unf'].unique()"
   ]
  },
  {
   "cell_type": "markdown",
   "id": "f6f1424a",
   "metadata": {},
   "source": [
    "We obtained cleane price_string_unf coloumn now it time to seperate value and currency"
   ]
  },
  {
   "cell_type": "code",
   "execution_count": 29,
   "id": "49700b2e",
   "metadata": {},
   "outputs": [],
   "source": [
    "new = df[\"price_string_unf\"].str.split(\" \", n = 1, expand = True)"
   ]
  },
  {
   "cell_type": "code",
   "execution_count": 30,
   "id": "23a2e19b",
   "metadata": {},
   "outputs": [
    {
     "data": {
      "text/plain": [
       "array([nan, '', '$6', '$15', '$18', '$459', '$619', '$41', '$85', '$24',\n",
       "       '$248', '$178', '$99', '$11', '$10', '$95', '$29', '$25', '$138',\n",
       "       '$49', '$50', '$80', '$52', '$198', '$30'], dtype=object)"
      ]
     },
     "execution_count": 30,
     "metadata": {},
     "output_type": "execute_result"
    }
   ],
   "source": [
    "new[0].unique()"
   ]
  },
  {
   "cell_type": "code",
   "execution_count": 31,
   "id": "3d69b5c1",
   "metadata": {},
   "outputs": [
    {
     "data": {
      "text/plain": [
       "array([nan, '$359', None, 'USD', '$329'], dtype=object)"
      ]
     },
     "execution_count": 31,
     "metadata": {},
     "output_type": "execute_result"
    }
   ],
   "source": [
    "new[1].unique()"
   ]
  },
  {
   "cell_type": "code",
   "execution_count": 32,
   "id": "2ef67c8b",
   "metadata": {},
   "outputs": [],
   "source": [
    "new=new[new[1]=='USD']"
   ]
  },
  {
   "cell_type": "code",
   "execution_count": 33,
   "id": "0465d9e8",
   "metadata": {},
   "outputs": [],
   "source": [
    "new.columns =['value','currency']"
   ]
  },
  {
   "cell_type": "code",
   "execution_count": 34,
   "id": "846e7ed9",
   "metadata": {},
   "outputs": [
    {
     "data": {
      "text/html": [
       "<div>\n",
       "<style scoped>\n",
       "    .dataframe tbody tr th:only-of-type {\n",
       "        vertical-align: middle;\n",
       "    }\n",
       "\n",
       "    .dataframe tbody tr th {\n",
       "        vertical-align: top;\n",
       "    }\n",
       "\n",
       "    .dataframe thead th {\n",
       "        text-align: right;\n",
       "    }\n",
       "</style>\n",
       "<table border=\"1\" class=\"dataframe\">\n",
       "  <thead>\n",
       "    <tr style=\"text-align: right;\">\n",
       "      <th></th>\n",
       "      <th>value</th>\n",
       "      <th>currency</th>\n",
       "    </tr>\n",
       "  </thead>\n",
       "  <tbody>\n",
       "    <tr>\n",
       "      <th>208</th>\n",
       "      <td>$41</td>\n",
       "      <td>USD</td>\n",
       "    </tr>\n",
       "    <tr>\n",
       "      <th>214</th>\n",
       "      <td>$85</td>\n",
       "      <td>USD</td>\n",
       "    </tr>\n",
       "    <tr>\n",
       "      <th>268</th>\n",
       "      <td>$41</td>\n",
       "      <td>USD</td>\n",
       "    </tr>\n",
       "    <tr>\n",
       "      <th>628</th>\n",
       "      <td>$41</td>\n",
       "      <td>USD</td>\n",
       "    </tr>\n",
       "    <tr>\n",
       "      <th>637</th>\n",
       "      <td>$85</td>\n",
       "      <td>USD</td>\n",
       "    </tr>\n",
       "    <tr>\n",
       "      <th>...</th>\n",
       "      <td>...</td>\n",
       "      <td>...</td>\n",
       "    </tr>\n",
       "    <tr>\n",
       "      <th>13729424</th>\n",
       "      <td>$80</td>\n",
       "      <td>USD</td>\n",
       "    </tr>\n",
       "    <tr>\n",
       "      <th>13729507</th>\n",
       "      <td>$41</td>\n",
       "      <td>USD</td>\n",
       "    </tr>\n",
       "    <tr>\n",
       "      <th>13729593</th>\n",
       "      <td>$80</td>\n",
       "      <td>USD</td>\n",
       "    </tr>\n",
       "    <tr>\n",
       "      <th>13729649</th>\n",
       "      <td>$80</td>\n",
       "      <td>USD</td>\n",
       "    </tr>\n",
       "    <tr>\n",
       "      <th>13729878</th>\n",
       "      <td>$85</td>\n",
       "      <td>USD</td>\n",
       "    </tr>\n",
       "  </tbody>\n",
       "</table>\n",
       "<p>70000 rows × 2 columns</p>\n",
       "</div>"
      ],
      "text/plain": [
       "         value currency\n",
       "208        $41      USD\n",
       "214        $85      USD\n",
       "268        $41      USD\n",
       "628        $41      USD\n",
       "637        $85      USD\n",
       "...        ...      ...\n",
       "13729424   $80      USD\n",
       "13729507   $41      USD\n",
       "13729593   $80      USD\n",
       "13729649   $80      USD\n",
       "13729878   $85      USD\n",
       "\n",
       "[70000 rows x 2 columns]"
      ]
     },
     "execution_count": 34,
     "metadata": {},
     "output_type": "execute_result"
    }
   ],
   "source": [
    "new"
   ]
  },
  {
   "cell_type": "markdown",
   "id": "62ad2aac",
   "metadata": {},
   "source": [
    "we have successfully created two new coloum of values and currancy"
   ]
  },
  {
   "cell_type": "code",
   "execution_count": 35,
   "id": "208300d0",
   "metadata": {},
   "outputs": [],
   "source": [
    "fainal  = pd.concat([df, new], ignore_index=True, sort=False)"
   ]
  },
  {
   "cell_type": "code",
   "execution_count": 36,
   "id": "93e35368",
   "metadata": {},
   "outputs": [
    {
     "data": {
      "text/html": [
       "<div>\n",
       "<style scoped>\n",
       "    .dataframe tbody tr th:only-of-type {\n",
       "        vertical-align: middle;\n",
       "    }\n",
       "\n",
       "    .dataframe tbody tr th {\n",
       "        vertical-align: top;\n",
       "    }\n",
       "\n",
       "    .dataframe thead th {\n",
       "        text-align: right;\n",
       "    }\n",
       "</style>\n",
       "<table border=\"1\" class=\"dataframe\">\n",
       "  <thead>\n",
       "    <tr style=\"text-align: right;\">\n",
       "      <th></th>\n",
       "      <th>uuid</th>\n",
       "      <th>price_string</th>\n",
       "      <th>price_string_unf</th>\n",
       "      <th>product_type</th>\n",
       "      <th>level_1</th>\n",
       "      <th>category</th>\n",
       "      <th>value</th>\n",
       "      <th>currency</th>\n",
       "    </tr>\n",
       "  </thead>\n",
       "  <tbody>\n",
       "    <tr>\n",
       "      <th>0</th>\n",
       "      <td>638744a4-b0ae-4166-8cb6-5c063c862036</td>\n",
       "      <td>NaN</td>\n",
       "      <td>NaN</td>\n",
       "      <td>TGFwdG9wIENvdmVycy9CYWdz</td>\n",
       "      <td>TGFwdG9wIENhc2U</td>\n",
       "      <td>RWxlY3Ryb25pY3M</td>\n",
       "      <td>NaN</td>\n",
       "      <td>NaN</td>\n",
       "    </tr>\n",
       "    <tr>\n",
       "      <th>1</th>\n",
       "      <td>ab313969-02cc-48b2-9daf-0054efb70b92</td>\n",
       "      <td>NaN</td>\n",
       "      <td>NaN</td>\n",
       "      <td>QmFraW5nIEN1cHMgYW5kIE1hdHM</td>\n",
       "      <td>QmFraW5nIE1hdHMgLyBCYWtpbmcgZGlzaA</td>\n",
       "      <td>a2l0Y2hpbmcgYW5kIGRpbmluZw</td>\n",
       "      <td>NaN</td>\n",
       "      <td>NaN</td>\n",
       "    </tr>\n",
       "    <tr>\n",
       "      <th>2</th>\n",
       "      <td>acbd66ff-79f8-467a-91f9-108a45af5626</td>\n",
       "      <td>$19.95</td>\n",
       "      <td>NaN</td>\n",
       "      <td>R3VtbWllcyB2aXRhbWlucyBhbmQgbWluZXJhbHMgZm9yIG...</td>\n",
       "      <td>SW1tdW5pdHkgZ3VtbWllcw</td>\n",
       "      <td>SGVhbHRo</td>\n",
       "      <td>NaN</td>\n",
       "      <td>NaN</td>\n",
       "    </tr>\n",
       "    <tr>\n",
       "      <th>3</th>\n",
       "      <td>963915d6-b2e3-4098-b242-9410593cf205</td>\n",
       "      <td>$92.00</td>\n",
       "      <td>NaN</td>\n",
       "      <td>U2VydW1z</td>\n",
       "      <td>RmFjZSBTZXJ1bQ</td>\n",
       "      <td>YmVhdXR5IGFuZCBwZXJzb25hbCBjYXJl</td>\n",
       "      <td>NaN</td>\n",
       "      <td>NaN</td>\n",
       "    </tr>\n",
       "    <tr>\n",
       "      <th>4</th>\n",
       "      <td>b5b68f3c-b1e0-40e5-8ee5-e2f7236c1daf</td>\n",
       "      <td>11.50</td>\n",
       "      <td>NaN</td>\n",
       "      <td>RWF0aW5nIFV0ZW5zaWxzL0N1dGxlcnk</td>\n",
       "      <td>Q2hvcHN0aWNrcw</td>\n",
       "      <td>a2l0Y2hpbmcgYW5kIGRpbmluZw</td>\n",
       "      <td>NaN</td>\n",
       "      <td>NaN</td>\n",
       "    </tr>\n",
       "  </tbody>\n",
       "</table>\n",
       "</div>"
      ],
      "text/plain": [
       "                                   uuid price_string price_string_unf  \\\n",
       "0  638744a4-b0ae-4166-8cb6-5c063c862036          NaN              NaN   \n",
       "1  ab313969-02cc-48b2-9daf-0054efb70b92          NaN              NaN   \n",
       "2  acbd66ff-79f8-467a-91f9-108a45af5626       $19.95              NaN   \n",
       "3  963915d6-b2e3-4098-b242-9410593cf205       $92.00              NaN   \n",
       "4  b5b68f3c-b1e0-40e5-8ee5-e2f7236c1daf        11.50              NaN   \n",
       "\n",
       "                                        product_type  \\\n",
       "0                           TGFwdG9wIENvdmVycy9CYWdz   \n",
       "1                        QmFraW5nIEN1cHMgYW5kIE1hdHM   \n",
       "2  R3VtbWllcyB2aXRhbWlucyBhbmQgbWluZXJhbHMgZm9yIG...   \n",
       "3                                           U2VydW1z   \n",
       "4                    RWF0aW5nIFV0ZW5zaWxzL0N1dGxlcnk   \n",
       "\n",
       "                              level_1                          category value  \\\n",
       "0                     TGFwdG9wIENhc2U                   RWxlY3Ryb25pY3M   NaN   \n",
       "1  QmFraW5nIE1hdHMgLyBCYWtpbmcgZGlzaA        a2l0Y2hpbmcgYW5kIGRpbmluZw   NaN   \n",
       "2              SW1tdW5pdHkgZ3VtbWllcw                          SGVhbHRo   NaN   \n",
       "3                      RmFjZSBTZXJ1bQ  YmVhdXR5IGFuZCBwZXJzb25hbCBjYXJl   NaN   \n",
       "4                      Q2hvcHN0aWNrcw        a2l0Y2hpbmcgYW5kIGRpbmluZw   NaN   \n",
       "\n",
       "  currency  \n",
       "0      NaN  \n",
       "1      NaN  \n",
       "2      NaN  \n",
       "3      NaN  \n",
       "4      NaN  "
      ]
     },
     "execution_count": 36,
     "metadata": {},
     "output_type": "execute_result"
    }
   ],
   "source": [
    "fainal.head()"
   ]
  },
  {
   "cell_type": "markdown",
   "id": "54a994d7",
   "metadata": {},
   "source": [
    "we have fainally concat value and currency coloumn in our orginal dataframe"
   ]
  },
  {
   "cell_type": "markdown",
   "id": "a3c4788b",
   "metadata": {},
   "source": [
    "# List out the categories with average price of product.\n"
   ]
  },
  {
   "cell_type": "markdown",
   "id": "24995f60",
   "metadata": {},
   "source": [
    "To find average we have to eleminate all null values from price coloumn"
   ]
  },
  {
   "cell_type": "code",
   "execution_count": 37,
   "id": "d7e757ee",
   "metadata": {},
   "outputs": [],
   "source": [
    "average=fainal[~(fainal['price_string'].isnull())]"
   ]
  },
  {
   "cell_type": "markdown",
   "id": "29897a39",
   "metadata": {},
   "source": [
    "Changing datatype to float and eliminating $ to find average"
   ]
  },
  {
   "cell_type": "code",
   "execution_count": 38,
   "id": "a54fcb72",
   "metadata": {},
   "outputs": [
    {
     "name": "stderr",
     "output_type": "stream",
     "text": [
      "C:\\Users\\ritik\\AppData\\Local\\Temp/ipykernel_12148/313130159.py:1: FutureWarning: The default value of regex will change from True to False in a future version. In addition, single character regular expressions will *not* be treated as literal strings when regex=True.\n",
      "  average['price_string']=average['price_string'].str.replace('$','').astype(float)\n",
      "C:\\Users\\ritik\\AppData\\Local\\Temp/ipykernel_12148/313130159.py:1: SettingWithCopyWarning: \n",
      "A value is trying to be set on a copy of a slice from a DataFrame.\n",
      "Try using .loc[row_indexer,col_indexer] = value instead\n",
      "\n",
      "See the caveats in the documentation: https://pandas.pydata.org/pandas-docs/stable/user_guide/indexing.html#returning-a-view-versus-a-copy\n",
      "  average['price_string']=average['price_string'].str.replace('$','').astype(float)\n"
     ]
    }
   ],
   "source": [
    "average['price_string']=average['price_string'].str.replace('$','').astype(float)"
   ]
  },
  {
   "cell_type": "code",
   "execution_count": 39,
   "id": "2e109841",
   "metadata": {},
   "outputs": [
    {
     "data": {
      "text/plain": [
       "70.03"
      ]
     },
     "execution_count": 39,
     "metadata": {},
     "output_type": "execute_result"
    }
   ],
   "source": [
    "round(average['price_string'].mean(),2)"
   ]
  },
  {
   "cell_type": "markdown",
   "id": "bc841635",
   "metadata": {},
   "source": [
    "from these we got our average value 70.03"
   ]
  },
  {
   "cell_type": "markdown",
   "id": "d0fa8f24",
   "metadata": {},
   "source": [
    "As our data is to large we can use below condition to find catrgories with avg price (diffrence is nigligible can be consider as 70)"
   ]
  },
  {
   "cell_type": "code",
   "execution_count": 40,
   "id": "a3848006",
   "metadata": {},
   "outputs": [],
   "source": [
    "def avg(x):\n",
    "    if x>=69.5 and x<=71:\n",
    "        return x"
   ]
  },
  {
   "cell_type": "code",
   "execution_count": 41,
   "id": "bea5c08e",
   "metadata": {},
   "outputs": [
    {
     "name": "stderr",
     "output_type": "stream",
     "text": [
      "C:\\Users\\ritik\\AppData\\Local\\Temp/ipykernel_12148/447651994.py:1: SettingWithCopyWarning: \n",
      "A value is trying to be set on a copy of a slice from a DataFrame.\n",
      "Try using .loc[row_indexer,col_indexer] = value instead\n",
      "\n",
      "See the caveats in the documentation: https://pandas.pydata.org/pandas-docs/stable/user_guide/indexing.html#returning-a-view-versus-a-copy\n",
      "  average['price_string'] =average['price_string'].apply(avg)\n"
     ]
    }
   ],
   "source": [
    "average['price_string'] =average['price_string'].apply(avg)"
   ]
  },
  {
   "cell_type": "code",
   "execution_count": 42,
   "id": "75a1d68c",
   "metadata": {},
   "outputs": [],
   "source": [
    "categories=average[~(average['price_string'].isnull())]"
   ]
  },
  {
   "cell_type": "code",
   "execution_count": 43,
   "id": "8f18e506",
   "metadata": {},
   "outputs": [
    {
     "data": {
      "text/html": [
       "<div>\n",
       "<style scoped>\n",
       "    .dataframe tbody tr th:only-of-type {\n",
       "        vertical-align: middle;\n",
       "    }\n",
       "\n",
       "    .dataframe tbody tr th {\n",
       "        vertical-align: top;\n",
       "    }\n",
       "\n",
       "    .dataframe thead th {\n",
       "        text-align: right;\n",
       "    }\n",
       "</style>\n",
       "<table border=\"1\" class=\"dataframe\">\n",
       "  <thead>\n",
       "    <tr style=\"text-align: right;\">\n",
       "      <th></th>\n",
       "      <th>price_string</th>\n",
       "      <th>category</th>\n",
       "    </tr>\n",
       "  </thead>\n",
       "  <tbody>\n",
       "    <tr>\n",
       "      <th>0</th>\n",
       "      <td>70.00</td>\n",
       "      <td>Q2xvdGhpbmcgYW5kIEFjY2Vzc29yaWVz</td>\n",
       "    </tr>\n",
       "    <tr>\n",
       "      <th>1</th>\n",
       "      <td>69.99</td>\n",
       "      <td>SG91c2Vob2xkIGFuZCBDbGVhbmluZw</td>\n",
       "    </tr>\n",
       "    <tr>\n",
       "      <th>2</th>\n",
       "      <td>70.00</td>\n",
       "      <td>Q2xvdGhpbmcgYW5kIEFjY2Vzc29yaWVz</td>\n",
       "    </tr>\n",
       "    <tr>\n",
       "      <th>3</th>\n",
       "      <td>69.99</td>\n",
       "      <td>SG91c2Vob2xkIGFuZCBDbGVhbmluZw</td>\n",
       "    </tr>\n",
       "    <tr>\n",
       "      <th>4</th>\n",
       "      <td>69.99</td>\n",
       "      <td>SG91c2Vob2xkIGFuZCBDbGVhbmluZw</td>\n",
       "    </tr>\n",
       "    <tr>\n",
       "      <th>...</th>\n",
       "      <td>...</td>\n",
       "      <td>...</td>\n",
       "    </tr>\n",
       "    <tr>\n",
       "      <th>39995</th>\n",
       "      <td>69.99</td>\n",
       "      <td>SG91c2Vob2xkIGFuZCBDbGVhbmluZw</td>\n",
       "    </tr>\n",
       "    <tr>\n",
       "      <th>39996</th>\n",
       "      <td>70.00</td>\n",
       "      <td>Q2xvdGhpbmcgYW5kIEFjY2Vzc29yaWVz</td>\n",
       "    </tr>\n",
       "    <tr>\n",
       "      <th>39997</th>\n",
       "      <td>69.99</td>\n",
       "      <td>SG91c2Vob2xkIGFuZCBDbGVhbmluZw</td>\n",
       "    </tr>\n",
       "    <tr>\n",
       "      <th>39998</th>\n",
       "      <td>69.99</td>\n",
       "      <td>SG91c2Vob2xkIGFuZCBDbGVhbmluZw</td>\n",
       "    </tr>\n",
       "    <tr>\n",
       "      <th>39999</th>\n",
       "      <td>69.99</td>\n",
       "      <td>SG91c2Vob2xkIGFuZCBDbGVhbmluZw</td>\n",
       "    </tr>\n",
       "  </tbody>\n",
       "</table>\n",
       "<p>40000 rows × 2 columns</p>\n",
       "</div>"
      ],
      "text/plain": [
       "       price_string                          category\n",
       "0             70.00  Q2xvdGhpbmcgYW5kIEFjY2Vzc29yaWVz\n",
       "1             69.99    SG91c2Vob2xkIGFuZCBDbGVhbmluZw\n",
       "2             70.00  Q2xvdGhpbmcgYW5kIEFjY2Vzc29yaWVz\n",
       "3             69.99    SG91c2Vob2xkIGFuZCBDbGVhbmluZw\n",
       "4             69.99    SG91c2Vob2xkIGFuZCBDbGVhbmluZw\n",
       "...             ...                               ...\n",
       "39995         69.99    SG91c2Vob2xkIGFuZCBDbGVhbmluZw\n",
       "39996         70.00  Q2xvdGhpbmcgYW5kIEFjY2Vzc29yaWVz\n",
       "39997         69.99    SG91c2Vob2xkIGFuZCBDbGVhbmluZw\n",
       "39998         69.99    SG91c2Vob2xkIGFuZCBDbGVhbmluZw\n",
       "39999         69.99    SG91c2Vob2xkIGFuZCBDbGVhbmluZw\n",
       "\n",
       "[40000 rows x 2 columns]"
      ]
     },
     "execution_count": 43,
     "metadata": {},
     "output_type": "execute_result"
    }
   ],
   "source": [
    "categories[['price_string','category']].reset_index().drop(['index'],axis=1)"
   ]
  },
  {
   "cell_type": "markdown",
   "id": "e6291284",
   "metadata": {},
   "source": [
    "here we got the list of categories with average price of product\n"
   ]
  },
  {
   "cell_type": "code",
   "execution_count": 44,
   "id": "43f6b76f",
   "metadata": {},
   "outputs": [
    {
     "data": {
      "text/plain": [
       "price_string  category                           \n",
       "69.99         SG91c2Vob2xkIGFuZCBDbGVhbmluZw         20000\n",
       "              VG9vbHMgYW5kIGhvbWUgaW1wcm92ZW1lbnQ    10000\n",
       "70.00         Q2xvdGhpbmcgYW5kIEFjY2Vzc29yaWVz       10000\n",
       "dtype: int64"
      ]
     },
     "execution_count": 44,
     "metadata": {},
     "output_type": "execute_result"
    }
   ],
   "source": [
    "categories[['price_string','category']].value_counts()"
   ]
  },
  {
   "cell_type": "markdown",
   "id": "f35a3834",
   "metadata": {},
   "source": [
    "from these we are able to know that there are 3 categories with count 20000,10000,10000 whose price is average "
   ]
  },
  {
   "cell_type": "code",
   "execution_count": 45,
   "id": "b322c16b",
   "metadata": {},
   "outputs": [
    {
     "data": {
      "text/plain": [
       "<AxesSubplot:xlabel='category'>"
      ]
     },
     "execution_count": 45,
     "metadata": {},
     "output_type": "execute_result"
    },
    {
     "data": {
      "image/png": "[encoded data removed]",
      "text/plain": [
       "<Figure size 432x288 with 1 Axes>"
      ]
     },
     "metadata": {
      "needs_background": "light"
     },
     "output_type": "display_data"
    }
   ],
   "source": [
    "categories[['category']].value_counts().plot(kind='bar',color=['r','b','g'])"
   ]
  },
  {
   "cell_type": "markdown",
   "id": "a9ff6d1c",
   "metadata": {},
   "source": [
    "from these we understand that red project have heigher number of product with average price"
   ]
  },
  {
   "cell_type": "markdown",
   "id": "a54144dd",
   "metadata": {},
   "source": [
    "# Creating Compelete report of dataset"
   ]
  },
  {
   "cell_type": "code",
   "execution_count": 46,
   "id": "9aba00b9",
   "metadata": {},
   "outputs": [
    {
     "name": "stdout",
     "output_type": "stream",
     "text": [
      "Requirement already satisfied: pandas-profiling in d:\\software\\anaconda\\lib\\site-packages (3.1.0)\n",
      "Requirement already satisfied: PyYAML>=5.0.0 in d:\\software\\anaconda\\lib\\site-packages (from pandas-profiling) (6.0)\n",
      "Requirement already satisfied: htmlmin>=0.1.12 in d:\\software\\anaconda\\lib\\site-packages (from pandas-profiling) (0.1.12)\n",
      "Requirement already satisfied: missingno>=0.4.2 in d:\\software\\anaconda\\lib\\site-packages (from pandas-profiling) (0.5.0)\n",
      "Requirement already satisfied: numpy>=1.16.0 in d:\\software\\anaconda\\lib\\site-packages (from pandas-profiling) (1.20.3)\n",
      "Requirement already satisfied: visions[type_image_path]==0.7.4 in d:\\software\\anaconda\\lib\\site-packages (from pandas-profiling) (0.7.4)\n",
      "Requirement already satisfied: phik>=0.11.1 in d:\\software\\anaconda\\lib\\site-packages (from pandas-profiling) (0.12.0)\n",
      "Requirement already satisfied: scipy>=1.4.1 in d:\\software\\anaconda\\lib\\site-packages (from pandas-profiling) (1.7.1)\n",
      "Requirement already satisfied: requests>=2.24.0 in d:\\software\\anaconda\\lib\\site-packages (from pandas-profiling) (2.26.0)\n",
      "Requirement already satisfied: pydantic>=1.8.1 in d:\\software\\anaconda\\lib\\site-packages (from pandas-profiling) (1.9.0)\n",
      "Requirement already satisfied: markupsafe~=2.0.1 in d:\\software\\anaconda\\lib\\site-packages (from pandas-profiling) (2.0.1)\n",
      "Requirement already satisfied: multimethod>=1.4 in d:\\software\\anaconda\\lib\\site-packages (from pandas-profiling) (1.7)\n",
      "Requirement already satisfied: tangled-up-in-unicode==0.1.0 in d:\\software\\anaconda\\lib\\site-packages (from pandas-profiling) (0.1.0)\n",
      "Requirement already satisfied: seaborn>=0.10.1 in d:\\software\\anaconda\\lib\\site-packages (from pandas-profiling) (0.11.2)\n",
      "Requirement already satisfied: jinja2>=2.11.1 in d:\\software\\anaconda\\lib\\site-packages (from pandas-profiling) (2.11.3)\n",
      "Requirement already satisfied: tqdm>=4.48.2 in d:\\software\\anaconda\\lib\\site-packages (from pandas-profiling) (4.62.3)\n",
      "Requirement already satisfied: joblib~=1.0.1 in d:\\software\\anaconda\\lib\\site-packages (from pandas-profiling) (1.0.1)\n",
      "Requirement already satisfied: pandas!=1.0.0,!=1.0.1,!=1.0.2,!=1.1.0,>=0.25.3 in d:\\software\\anaconda\\lib\\site-packages (from pandas-profiling) (1.3.4)\n",
      "Requirement already satisfied: matplotlib>=3.2.0 in d:\\software\\anaconda\\lib\\site-packages (from pandas-profiling) (3.4.3)\n",
      "Requirement already satisfied: networkx>=2.4 in d:\\software\\anaconda\\lib\\site-packages (from visions[type_image_path]==0.7.4->pandas-profiling) (2.6.3)\n",
      "Requirement already satisfied: attrs>=19.3.0 in d:\\software\\anaconda\\lib\\site-packages (from visions[type_image_path]==0.7.4->pandas-profiling) (21.2.0)\n",
      "Requirement already satisfied: imagehash in d:\\software\\anaconda\\lib\\site-packages (from visions[type_image_path]==0.7.4->pandas-profiling) (4.2.1)\n",
      "Requirement already satisfied: Pillow in d:\\software\\anaconda\\lib\\site-packages (from visions[type_image_path]==0.7.4->pandas-profiling) (8.4.0)\n",
      "Requirement already satisfied: pyparsing>=2.2.1 in d:\\software\\anaconda\\lib\\site-packages (from matplotlib>=3.2.0->pandas-profiling) (3.0.4)\n",
      "Requirement already satisfied: python-dateutil>=2.7 in d:\\software\\anaconda\\lib\\site-packages (from matplotlib>=3.2.0->pandas-profiling) (2.8.2)\n",
      "Requirement already satisfied: kiwisolver>=1.0.1 in d:\\software\\anaconda\\lib\\site-packages (from matplotlib>=3.2.0->pandas-profiling) (1.3.1)\n",
      "Requirement already satisfied: cycler>=0.10 in d:\\software\\anaconda\\lib\\site-packages (from matplotlib>=3.2.0->pandas-profiling) (0.10.0)\n",
      "Requirement already satisfied: six in d:\\software\\anaconda\\lib\\site-packages (from cycler>=0.10->matplotlib>=3.2.0->pandas-profiling) (1.16.0)\n",
      "Requirement already satisfied: pytz>=2017.3 in d:\\software\\anaconda\\lib\\site-packages (from pandas!=1.0.0,!=1.0.1,!=1.0.2,!=1.1.0,>=0.25.3->pandas-profiling) (2021.3)\n",
      "Requirement already satisfied: typing-extensions>=3.7.4.3 in d:\\software\\anaconda\\lib\\site-packages (from pydantic>=1.8.1->pandas-profiling) (3.10.0.2)\n",
      "Requirement already satisfied: charset-normalizer~=2.0.0 in d:\\software\\anaconda\\lib\\site-packages (from requests>=2.24.0->pandas-profiling) (2.0.4)\n",
      "Requirement already satisfied: idna<4,>=2.5 in d:\\software\\anaconda\\lib\\site-packages (from requests>=2.24.0->pandas-profiling) (3.2)\n",
      "Requirement already satisfied: certifi>=2017.4.17 in d:\\software\\anaconda\\lib\\site-packages (from requests>=2.24.0->pandas-profiling) (2021.10.8)\n",
      "Requirement already satisfied: urllib3<1.27,>=1.21.1 in d:\\software\\anaconda\\lib\\site-packages (from requests>=2.24.0->pandas-profiling) (1.26.7)\n",
      "Requirement already satisfied: colorama in d:\\software\\anaconda\\lib\\site-packages (from tqdm>=4.48.2->pandas-profiling) (0.4.4)\n",
      "Requirement already satisfied: PyWavelets in d:\\software\\anaconda\\lib\\site-packages (from imagehash->visions[type_image_path]==0.7.4->pandas-profiling) (1.1.1)\n"
     ]
    }
   ],
   "source": [
    "!pip install pandas-profiling"
   ]
  },
  {
   "cell_type": "code",
   "execution_count": null,
   "id": "89c03616",
   "metadata": {},
   "outputs": [
    {
     "data": {
      "application/vnd.jupyter.widget-view+json": {
       "model_id": "12763aa7e1094212adefa619d696b903",
       "version_major": 2,
       "version_minor": 0
      },
      "text/plain": [
       "Summarize dataset:   0%|          | 0/5 [00:00<?, ?it/s]"
      ]
     },
     "metadata": {},
     "output_type": "display_data"
    }
   ],
   "source": [
    "from pandas_profiling import ProfileReport\n",
    "prof = ProfileReport(df)\n",
    "prof.to_file(output_file='Details.html')"
   ]
  },
  {
   "cell_type": "markdown",
   "id": "92cfd63b",
   "metadata": {},
   "source": [
    "in detail.html file you will going to find each and every details of your dataset in brife"
   ]
  },
  {
   "cell_type": "code",
   "execution_count": null,
   "id": "ff777c81",
   "metadata": {},
   "outputs": [],
   "source": []
  }
 ],
 "metadata": {
  "kernelspec": {
   "display_name": "Python 3 (ipykernel)",
   "language": "python",
   "name": "python3"
  },
  "language_info": {
   "codemirror_mode": {
    "name": "ipython",
    "version": 3
   },
   "file_extension": ".py",
   "mimetype": "text/x-python",
   "name": "python",
   "nbconvert_exporter": "python",
   "pygments_lexer": "ipython3",
   "version": "3.9.7"
  }
 },
 "nbformat": 4,
 "nbformat_minor": 5
}
